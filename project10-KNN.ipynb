{
 "cells": [
  {
   "cell_type": "markdown",
   "metadata": {},
   "source": [
    "## Breast Cancer Prediction Project 10"
   ]
  },
  {
   "cell_type": "code",
   "execution_count": 1,
   "metadata": {},
   "outputs": [],
   "source": [
    "import os as os\n",
    "import numpy as np\n",
    "import pandas as pd \n",
    "import seaborn as sns\n",
    "import matplotlib.pyplot as plt\n",
    "%matplotlib inline\n",
    "\n",
    "from sklearn.preprocessing import StandardScaler\n",
    "from sklearn.preprocessing import LabelEncoder"
   ]
  },
  {
   "cell_type": "code",
   "execution_count": 2,
   "metadata": {},
   "outputs": [],
   "source": [
    "os.getcwd()\n",
    "pd.set_option('display.max_columns',None)\n",
    "os.chdir(\"C:\\\\Users\\\\archana\\\\Desktop\\\\DSP\\\\Py\")"
   ]
  },
  {
   "cell_type": "markdown",
   "metadata": {},
   "source": [
    "### Reading Dataset"
   ]
  },
  {
   "cell_type": "code",
   "execution_count": 25,
   "metadata": {},
   "outputs": [],
   "source": [
    "df_data= pd.read_csv(\"cancerdata.csv\")"
   ]
  },
  {
   "cell_type": "code",
   "execution_count": 26,
   "metadata": {},
   "outputs": [
    {
     "data": {
      "text/html": [
       "<div>\n",
       "<style scoped>\n",
       "    .dataframe tbody tr th:only-of-type {\n",
       "        vertical-align: middle;\n",
       "    }\n",
       "\n",
       "    .dataframe tbody tr th {\n",
       "        vertical-align: top;\n",
       "    }\n",
       "\n",
       "    .dataframe thead th {\n",
       "        text-align: right;\n",
       "    }\n",
       "</style>\n",
       "<table border=\"1\" class=\"dataframe\">\n",
       "  <thead>\n",
       "    <tr style=\"text-align: right;\">\n",
       "      <th></th>\n",
       "      <th>id</th>\n",
       "      <th>diagnosis</th>\n",
       "      <th>radius_mean</th>\n",
       "      <th>texture_mean</th>\n",
       "      <th>perimeter_mean</th>\n",
       "      <th>area_mean</th>\n",
       "      <th>smoothness_mean</th>\n",
       "      <th>compactness_mean</th>\n",
       "      <th>concavity_mean</th>\n",
       "      <th>concave points_mean</th>\n",
       "      <th>symmetry_mean</th>\n",
       "      <th>fractal_dimension_mean</th>\n",
       "      <th>radius_se</th>\n",
       "      <th>texture_se</th>\n",
       "      <th>perimeter_se</th>\n",
       "      <th>area_se</th>\n",
       "      <th>smoothness_se</th>\n",
       "      <th>compactness_se</th>\n",
       "      <th>concavity_se</th>\n",
       "      <th>concave points_se</th>\n",
       "      <th>symmetry_se</th>\n",
       "      <th>fractal_dimension_se</th>\n",
       "      <th>radius_worst</th>\n",
       "      <th>texture_worst</th>\n",
       "      <th>perimeter_worst</th>\n",
       "      <th>area_worst</th>\n",
       "      <th>smoothness_worst</th>\n",
       "      <th>compactness_wors</th>\n",
       "      <th>concavity_worst</th>\n",
       "      <th>concave points_worst</th>\n",
       "      <th>symmetry_worst</th>\n",
       "      <th>fractal_dimension_worst</th>\n",
       "    </tr>\n",
       "  </thead>\n",
       "  <tbody>\n",
       "    <tr>\n",
       "      <td>0</td>\n",
       "      <td>842302</td>\n",
       "      <td>M</td>\n",
       "      <td>14.204716</td>\n",
       "      <td>20.202641</td>\n",
       "      <td>122.80</td>\n",
       "      <td>1001.0</td>\n",
       "      <td>0.096113</td>\n",
       "      <td>0.089479</td>\n",
       "      <td>0.184766</td>\n",
       "      <td>0.096526</td>\n",
       "      <td>0.150053</td>\n",
       "      <td>0.059764</td>\n",
       "      <td>0.006422</td>\n",
       "      <td>1.615280</td>\n",
       "      <td>2.763911</td>\n",
       "      <td>153.40</td>\n",
       "      <td>0.007540</td>\n",
       "      <td>0.028043</td>\n",
       "      <td>0.05373</td>\n",
       "      <td>0.01587</td>\n",
       "      <td>0.027044</td>\n",
       "      <td>0.003133</td>\n",
       "      <td>25.38</td>\n",
       "      <td>17.33</td>\n",
       "      <td>184.60</td>\n",
       "      <td>2019.0</td>\n",
       "      <td>0.1622</td>\n",
       "      <td>0.134597</td>\n",
       "      <td>0.7119</td>\n",
       "      <td>0.120681</td>\n",
       "      <td>0.4601</td>\n",
       "      <td>0.101594</td>\n",
       "    </tr>\n",
       "    <tr>\n",
       "      <td>1</td>\n",
       "      <td>842517</td>\n",
       "      <td>M</td>\n",
       "      <td>18.483496</td>\n",
       "      <td>22.464181</td>\n",
       "      <td>132.90</td>\n",
       "      <td>1326.0</td>\n",
       "      <td>0.094443</td>\n",
       "      <td>0.063299</td>\n",
       "      <td>0.086927</td>\n",
       "      <td>0.021108</td>\n",
       "      <td>0.213798</td>\n",
       "      <td>0.074897</td>\n",
       "      <td>0.303622</td>\n",
       "      <td>1.171764</td>\n",
       "      <td>6.690985</td>\n",
       "      <td>74.08</td>\n",
       "      <td>0.003675</td>\n",
       "      <td>0.019118</td>\n",
       "      <td>0.01860</td>\n",
       "      <td>0.01340</td>\n",
       "      <td>0.021795</td>\n",
       "      <td>0.000128</td>\n",
       "      <td>24.99</td>\n",
       "      <td>23.41</td>\n",
       "      <td>158.80</td>\n",
       "      <td>1956.0</td>\n",
       "      <td>0.1238</td>\n",
       "      <td>0.529227</td>\n",
       "      <td>0.2416</td>\n",
       "      <td>0.035439</td>\n",
       "      <td>0.2750</td>\n",
       "      <td>0.079397</td>\n",
       "    </tr>\n",
       "    <tr>\n",
       "      <td>2</td>\n",
       "      <td>84300903</td>\n",
       "      <td>M</td>\n",
       "      <td>15.516300</td>\n",
       "      <td>18.271486</td>\n",
       "      <td>130.00</td>\n",
       "      <td>1203.0</td>\n",
       "      <td>0.075842</td>\n",
       "      <td>0.059376</td>\n",
       "      <td>0.132738</td>\n",
       "      <td>0.052357</td>\n",
       "      <td>0.222581</td>\n",
       "      <td>0.056730</td>\n",
       "      <td>0.289027</td>\n",
       "      <td>-0.546491</td>\n",
       "      <td>5.660769</td>\n",
       "      <td>94.03</td>\n",
       "      <td>0.009390</td>\n",
       "      <td>0.035186</td>\n",
       "      <td>0.03832</td>\n",
       "      <td>0.02058</td>\n",
       "      <td>0.020481</td>\n",
       "      <td>0.004616</td>\n",
       "      <td>23.57</td>\n",
       "      <td>25.53</td>\n",
       "      <td>152.50</td>\n",
       "      <td>1709.0</td>\n",
       "      <td>0.1444</td>\n",
       "      <td>0.166906</td>\n",
       "      <td>0.4504</td>\n",
       "      <td>0.149670</td>\n",
       "      <td>0.3613</td>\n",
       "      <td>0.088802</td>\n",
       "    </tr>\n",
       "    <tr>\n",
       "      <td>3</td>\n",
       "      <td>84348301</td>\n",
       "      <td>M</td>\n",
       "      <td>15.540583</td>\n",
       "      <td>27.560108</td>\n",
       "      <td>77.58</td>\n",
       "      <td>386.1</td>\n",
       "      <td>0.091525</td>\n",
       "      <td>0.088022</td>\n",
       "      <td>0.194466</td>\n",
       "      <td>0.010895</td>\n",
       "      <td>0.179685</td>\n",
       "      <td>0.067824</td>\n",
       "      <td>0.765715</td>\n",
       "      <td>0.842057</td>\n",
       "      <td>-0.081625</td>\n",
       "      <td>27.23</td>\n",
       "      <td>0.006981</td>\n",
       "      <td>-0.028741</td>\n",
       "      <td>0.05661</td>\n",
       "      <td>0.01867</td>\n",
       "      <td>0.014801</td>\n",
       "      <td>0.003431</td>\n",
       "      <td>14.91</td>\n",
       "      <td>26.50</td>\n",
       "      <td>98.87</td>\n",
       "      <td>567.7</td>\n",
       "      <td>0.2098</td>\n",
       "      <td>0.224998</td>\n",
       "      <td>0.6869</td>\n",
       "      <td>0.110799</td>\n",
       "      <td>0.6638</td>\n",
       "      <td>0.086210</td>\n",
       "    </tr>\n",
       "    <tr>\n",
       "      <td>4</td>\n",
       "      <td>84358402</td>\n",
       "      <td>M</td>\n",
       "      <td>14.005198</td>\n",
       "      <td>11.678064</td>\n",
       "      <td>135.10</td>\n",
       "      <td>1297.0</td>\n",
       "      <td>0.092790</td>\n",
       "      <td>0.010642</td>\n",
       "      <td>0.030518</td>\n",
       "      <td>0.037828</td>\n",
       "      <td>0.147534</td>\n",
       "      <td>0.070231</td>\n",
       "      <td>0.732142</td>\n",
       "      <td>1.830999</td>\n",
       "      <td>2.432024</td>\n",
       "      <td>94.44</td>\n",
       "      <td>0.006293</td>\n",
       "      <td>0.020667</td>\n",
       "      <td>0.05688</td>\n",
       "      <td>0.01885</td>\n",
       "      <td>0.026821</td>\n",
       "      <td>0.005654</td>\n",
       "      <td>22.54</td>\n",
       "      <td>16.67</td>\n",
       "      <td>152.20</td>\n",
       "      <td>1575.0</td>\n",
       "      <td>0.1374</td>\n",
       "      <td>0.075833</td>\n",
       "      <td>0.4000</td>\n",
       "      <td>0.126386</td>\n",
       "      <td>0.2364</td>\n",
       "      <td>0.087483</td>\n",
       "    </tr>\n",
       "  </tbody>\n",
       "</table>\n",
       "</div>"
      ],
      "text/plain": [
       "         id diagnosis  radius_mean  texture_mean  perimeter_mean  area_mean  \\\n",
       "0    842302         M    14.204716     20.202641          122.80     1001.0   \n",
       "1    842517         M    18.483496     22.464181          132.90     1326.0   \n",
       "2  84300903         M    15.516300     18.271486          130.00     1203.0   \n",
       "3  84348301         M    15.540583     27.560108           77.58      386.1   \n",
       "4  84358402         M    14.005198     11.678064          135.10     1297.0   \n",
       "\n",
       "   smoothness_mean  compactness_mean  concavity_mean  concave points_mean  \\\n",
       "0         0.096113          0.089479        0.184766             0.096526   \n",
       "1         0.094443          0.063299        0.086927             0.021108   \n",
       "2         0.075842          0.059376        0.132738             0.052357   \n",
       "3         0.091525          0.088022        0.194466             0.010895   \n",
       "4         0.092790          0.010642        0.030518             0.037828   \n",
       "\n",
       "   symmetry_mean  fractal_dimension_mean  radius_se  texture_se  perimeter_se  \\\n",
       "0       0.150053                0.059764   0.006422    1.615280      2.763911   \n",
       "1       0.213798                0.074897   0.303622    1.171764      6.690985   \n",
       "2       0.222581                0.056730   0.289027   -0.546491      5.660769   \n",
       "3       0.179685                0.067824   0.765715    0.842057     -0.081625   \n",
       "4       0.147534                0.070231   0.732142    1.830999      2.432024   \n",
       "\n",
       "   area_se  smoothness_se  compactness_se  concavity_se  concave points_se  \\\n",
       "0   153.40       0.007540        0.028043       0.05373            0.01587   \n",
       "1    74.08       0.003675        0.019118       0.01860            0.01340   \n",
       "2    94.03       0.009390        0.035186       0.03832            0.02058   \n",
       "3    27.23       0.006981       -0.028741       0.05661            0.01867   \n",
       "4    94.44       0.006293        0.020667       0.05688            0.01885   \n",
       "\n",
       "   symmetry_se  fractal_dimension_se  radius_worst  texture_worst  \\\n",
       "0     0.027044              0.003133         25.38          17.33   \n",
       "1     0.021795              0.000128         24.99          23.41   \n",
       "2     0.020481              0.004616         23.57          25.53   \n",
       "3     0.014801              0.003431         14.91          26.50   \n",
       "4     0.026821              0.005654         22.54          16.67   \n",
       "\n",
       "   perimeter_worst  area_worst  smoothness_worst  compactness_wors  \\\n",
       "0           184.60      2019.0            0.1622          0.134597   \n",
       "1           158.80      1956.0            0.1238          0.529227   \n",
       "2           152.50      1709.0            0.1444          0.166906   \n",
       "3            98.87       567.7            0.2098          0.224998   \n",
       "4           152.20      1575.0            0.1374          0.075833   \n",
       "\n",
       "   concavity_worst  concave points_worst  symmetry_worst  \\\n",
       "0           0.7119              0.120681          0.4601   \n",
       "1           0.2416              0.035439          0.2750   \n",
       "2           0.4504              0.149670          0.3613   \n",
       "3           0.6869              0.110799          0.6638   \n",
       "4           0.4000              0.126386          0.2364   \n",
       "\n",
       "   fractal_dimension_worst  \n",
       "0                 0.101594  \n",
       "1                 0.079397  \n",
       "2                 0.088802  \n",
       "3                 0.086210  \n",
       "4                 0.087483  "
      ]
     },
     "execution_count": 26,
     "metadata": {},
     "output_type": "execute_result"
    }
   ],
   "source": [
    "df_data.head()"
   ]
  },
  {
   "cell_type": "code",
   "execution_count": 27,
   "metadata": {},
   "outputs": [
    {
     "data": {
      "text/plain": [
       "(569, 32)"
      ]
     },
     "execution_count": 27,
     "metadata": {},
     "output_type": "execute_result"
    }
   ],
   "source": [
    "df_data.shape"
   ]
  },
  {
   "cell_type": "markdown",
   "metadata": {},
   "source": [
    "Dataset has 569 observations and 32 columns"
   ]
  },
  {
   "cell_type": "code",
   "execution_count": 28,
   "metadata": {},
   "outputs": [
    {
     "data": {
      "text/html": [
       "<div>\n",
       "<style scoped>\n",
       "    .dataframe tbody tr th:only-of-type {\n",
       "        vertical-align: middle;\n",
       "    }\n",
       "\n",
       "    .dataframe tbody tr th {\n",
       "        vertical-align: top;\n",
       "    }\n",
       "\n",
       "    .dataframe thead th {\n",
       "        text-align: right;\n",
       "    }\n",
       "</style>\n",
       "<table border=\"1\" class=\"dataframe\">\n",
       "  <thead>\n",
       "    <tr style=\"text-align: right;\">\n",
       "      <th></th>\n",
       "      <th>id</th>\n",
       "      <th>radius_mean</th>\n",
       "      <th>texture_mean</th>\n",
       "      <th>perimeter_mean</th>\n",
       "      <th>area_mean</th>\n",
       "      <th>smoothness_mean</th>\n",
       "      <th>compactness_mean</th>\n",
       "      <th>concavity_mean</th>\n",
       "      <th>concave points_mean</th>\n",
       "      <th>symmetry_mean</th>\n",
       "      <th>fractal_dimension_mean</th>\n",
       "      <th>radius_se</th>\n",
       "      <th>texture_se</th>\n",
       "      <th>perimeter_se</th>\n",
       "      <th>area_se</th>\n",
       "      <th>smoothness_se</th>\n",
       "      <th>compactness_se</th>\n",
       "      <th>concavity_se</th>\n",
       "      <th>concave points_se</th>\n",
       "      <th>symmetry_se</th>\n",
       "      <th>fractal_dimension_se</th>\n",
       "      <th>radius_worst</th>\n",
       "      <th>texture_worst</th>\n",
       "      <th>perimeter_worst</th>\n",
       "      <th>area_worst</th>\n",
       "      <th>smoothness_worst</th>\n",
       "      <th>compactness_wors</th>\n",
       "      <th>concavity_worst</th>\n",
       "      <th>concave points_worst</th>\n",
       "      <th>symmetry_worst</th>\n",
       "      <th>fractal_dimension_worst</th>\n",
       "    </tr>\n",
       "  </thead>\n",
       "  <tbody>\n",
       "    <tr>\n",
       "      <td>count</td>\n",
       "      <td>5.690000e+02</td>\n",
       "      <td>569.000000</td>\n",
       "      <td>569.000000</td>\n",
       "      <td>569.000000</td>\n",
       "      <td>569.000000</td>\n",
       "      <td>569.000000</td>\n",
       "      <td>569.000000</td>\n",
       "      <td>569.000000</td>\n",
       "      <td>569.000000</td>\n",
       "      <td>569.000000</td>\n",
       "      <td>569.000000</td>\n",
       "      <td>569.000000</td>\n",
       "      <td>569.000000</td>\n",
       "      <td>569.000000</td>\n",
       "      <td>569.000000</td>\n",
       "      <td>569.000000</td>\n",
       "      <td>569.000000</td>\n",
       "      <td>569.000000</td>\n",
       "      <td>569.000000</td>\n",
       "      <td>569.000000</td>\n",
       "      <td>569.000000</td>\n",
       "      <td>569.000000</td>\n",
       "      <td>569.000000</td>\n",
       "      <td>569.000000</td>\n",
       "      <td>569.000000</td>\n",
       "      <td>569.000000</td>\n",
       "      <td>569.000000</td>\n",
       "      <td>569.000000</td>\n",
       "      <td>569.000000</td>\n",
       "      <td>569.000000</td>\n",
       "      <td>569.000000</td>\n",
       "    </tr>\n",
       "    <tr>\n",
       "      <td>mean</td>\n",
       "      <td>3.037183e+07</td>\n",
       "      <td>14.157073</td>\n",
       "      <td>19.025699</td>\n",
       "      <td>91.969033</td>\n",
       "      <td>654.889104</td>\n",
       "      <td>0.095887</td>\n",
       "      <td>0.106397</td>\n",
       "      <td>0.092388</td>\n",
       "      <td>0.048655</td>\n",
       "      <td>0.179979</td>\n",
       "      <td>0.063291</td>\n",
       "      <td>0.420306</td>\n",
       "      <td>1.206972</td>\n",
       "      <td>3.014281</td>\n",
       "      <td>40.337079</td>\n",
       "      <td>0.006921</td>\n",
       "      <td>0.025483</td>\n",
       "      <td>0.031894</td>\n",
       "      <td>0.011796</td>\n",
       "      <td>0.020458</td>\n",
       "      <td>0.003916</td>\n",
       "      <td>16.269190</td>\n",
       "      <td>25.677223</td>\n",
       "      <td>107.261213</td>\n",
       "      <td>880.583128</td>\n",
       "      <td>0.132369</td>\n",
       "      <td>0.243948</td>\n",
       "      <td>0.272188</td>\n",
       "      <td>0.122288</td>\n",
       "      <td>0.290076</td>\n",
       "      <td>0.082584</td>\n",
       "    </tr>\n",
       "    <tr>\n",
       "      <td>std</td>\n",
       "      <td>1.250206e+08</td>\n",
       "      <td>3.435295</td>\n",
       "      <td>4.515361</td>\n",
       "      <td>24.298981</td>\n",
       "      <td>351.914129</td>\n",
       "      <td>0.013778</td>\n",
       "      <td>0.051773</td>\n",
       "      <td>0.082573</td>\n",
       "      <td>0.042227</td>\n",
       "      <td>0.026742</td>\n",
       "      <td>0.006770</td>\n",
       "      <td>0.279339</td>\n",
       "      <td>0.534069</td>\n",
       "      <td>2.070656</td>\n",
       "      <td>45.491006</td>\n",
       "      <td>0.003069</td>\n",
       "      <td>0.017796</td>\n",
       "      <td>0.030186</td>\n",
       "      <td>0.006170</td>\n",
       "      <td>0.008280</td>\n",
       "      <td>0.002670</td>\n",
       "      <td>4.833242</td>\n",
       "      <td>6.146258</td>\n",
       "      <td>33.602542</td>\n",
       "      <td>569.356993</td>\n",
       "      <td>0.022832</td>\n",
       "      <td>0.156127</td>\n",
       "      <td>0.208624</td>\n",
       "      <td>0.064848</td>\n",
       "      <td>0.061867</td>\n",
       "      <td>0.018546</td>\n",
       "    </tr>\n",
       "    <tr>\n",
       "      <td>min</td>\n",
       "      <td>8.670000e+03</td>\n",
       "      <td>2.174108</td>\n",
       "      <td>5.225685</td>\n",
       "      <td>43.790000</td>\n",
       "      <td>143.500000</td>\n",
       "      <td>0.045915</td>\n",
       "      <td>-0.055431</td>\n",
       "      <td>-0.156186</td>\n",
       "      <td>-0.078615</td>\n",
       "      <td>0.103582</td>\n",
       "      <td>0.041265</td>\n",
       "      <td>-0.372471</td>\n",
       "      <td>-0.546491</td>\n",
       "      <td>-4.707076</td>\n",
       "      <td>6.802000</td>\n",
       "      <td>-0.001133</td>\n",
       "      <td>-0.028741</td>\n",
       "      <td>0.000000</td>\n",
       "      <td>0.000000</td>\n",
       "      <td>-0.005896</td>\n",
       "      <td>-0.003879</td>\n",
       "      <td>7.930000</td>\n",
       "      <td>12.020000</td>\n",
       "      <td>50.410000</td>\n",
       "      <td>185.200000</td>\n",
       "      <td>0.071170</td>\n",
       "      <td>-0.198310</td>\n",
       "      <td>0.000000</td>\n",
       "      <td>-0.133583</td>\n",
       "      <td>0.156500</td>\n",
       "      <td>0.031090</td>\n",
       "    </tr>\n",
       "    <tr>\n",
       "      <td>25%</td>\n",
       "      <td>8.692180e+05</td>\n",
       "      <td>11.762811</td>\n",
       "      <td>15.926529</td>\n",
       "      <td>75.170000</td>\n",
       "      <td>420.300000</td>\n",
       "      <td>0.085801</td>\n",
       "      <td>0.070217</td>\n",
       "      <td>0.037784</td>\n",
       "      <td>0.020214</td>\n",
       "      <td>0.162974</td>\n",
       "      <td>0.058996</td>\n",
       "      <td>0.227769</td>\n",
       "      <td>0.822432</td>\n",
       "      <td>1.642622</td>\n",
       "      <td>17.850000</td>\n",
       "      <td>0.004856</td>\n",
       "      <td>0.014254</td>\n",
       "      <td>0.015090</td>\n",
       "      <td>0.007638</td>\n",
       "      <td>0.014591</td>\n",
       "      <td>0.002096</td>\n",
       "      <td>13.010000</td>\n",
       "      <td>21.080000</td>\n",
       "      <td>84.110000</td>\n",
       "      <td>515.300000</td>\n",
       "      <td>0.116600</td>\n",
       "      <td>0.130946</td>\n",
       "      <td>0.114500</td>\n",
       "      <td>0.077446</td>\n",
       "      <td>0.250400</td>\n",
       "      <td>0.068561</td>\n",
       "    </tr>\n",
       "    <tr>\n",
       "      <td>50%</td>\n",
       "      <td>9.060240e+05</td>\n",
       "      <td>14.142920</td>\n",
       "      <td>19.135095</td>\n",
       "      <td>86.240000</td>\n",
       "      <td>551.100000</td>\n",
       "      <td>0.096244</td>\n",
       "      <td>0.105569</td>\n",
       "      <td>0.093832</td>\n",
       "      <td>0.048666</td>\n",
       "      <td>0.179796</td>\n",
       "      <td>0.062821</td>\n",
       "      <td>0.417595</td>\n",
       "      <td>1.219510</td>\n",
       "      <td>2.964648</td>\n",
       "      <td>24.530000</td>\n",
       "      <td>0.006996</td>\n",
       "      <td>0.025416</td>\n",
       "      <td>0.025890</td>\n",
       "      <td>0.010930</td>\n",
       "      <td>0.020653</td>\n",
       "      <td>0.003928</td>\n",
       "      <td>14.970000</td>\n",
       "      <td>25.410000</td>\n",
       "      <td>97.660000</td>\n",
       "      <td>686.500000</td>\n",
       "      <td>0.131300</td>\n",
       "      <td>0.237884</td>\n",
       "      <td>0.226700</td>\n",
       "      <td>0.120702</td>\n",
       "      <td>0.282200</td>\n",
       "      <td>0.082181</td>\n",
       "    </tr>\n",
       "    <tr>\n",
       "      <td>75%</td>\n",
       "      <td>8.813129e+06</td>\n",
       "      <td>16.403557</td>\n",
       "      <td>22.060029</td>\n",
       "      <td>104.100000</td>\n",
       "      <td>782.700000</td>\n",
       "      <td>0.105867</td>\n",
       "      <td>0.143065</td>\n",
       "      <td>0.148154</td>\n",
       "      <td>0.077010</td>\n",
       "      <td>0.198569</td>\n",
       "      <td>0.067782</td>\n",
       "      <td>0.625950</td>\n",
       "      <td>1.549142</td>\n",
       "      <td>4.341242</td>\n",
       "      <td>45.190000</td>\n",
       "      <td>0.009152</td>\n",
       "      <td>0.037804</td>\n",
       "      <td>0.042050</td>\n",
       "      <td>0.014710</td>\n",
       "      <td>0.026359</td>\n",
       "      <td>0.005818</td>\n",
       "      <td>18.790000</td>\n",
       "      <td>29.720000</td>\n",
       "      <td>125.400000</td>\n",
       "      <td>1084.000000</td>\n",
       "      <td>0.146000</td>\n",
       "      <td>0.345980</td>\n",
       "      <td>0.382900</td>\n",
       "      <td>0.162843</td>\n",
       "      <td>0.317900</td>\n",
       "      <td>0.094202</td>\n",
       "    </tr>\n",
       "    <tr>\n",
       "      <td>max</td>\n",
       "      <td>9.113205e+08</td>\n",
       "      <td>24.961616</td>\n",
       "      <td>31.692291</td>\n",
       "      <td>188.500000</td>\n",
       "      <td>2501.000000</td>\n",
       "      <td>0.144596</td>\n",
       "      <td>0.248430</td>\n",
       "      <td>0.335120</td>\n",
       "      <td>0.189527</td>\n",
       "      <td>0.261135</td>\n",
       "      <td>0.087951</td>\n",
       "      <td>1.461752</td>\n",
       "      <td>2.786341</td>\n",
       "      <td>8.611148</td>\n",
       "      <td>542.200000</td>\n",
       "      <td>0.015543</td>\n",
       "      <td>0.075790</td>\n",
       "      <td>0.396000</td>\n",
       "      <td>0.052790</td>\n",
       "      <td>0.042971</td>\n",
       "      <td>0.011591</td>\n",
       "      <td>36.040000</td>\n",
       "      <td>49.540000</td>\n",
       "      <td>251.200000</td>\n",
       "      <td>4254.000000</td>\n",
       "      <td>0.222600</td>\n",
       "      <td>0.693251</td>\n",
       "      <td>1.252000</td>\n",
       "      <td>0.313149</td>\n",
       "      <td>0.663800</td>\n",
       "      <td>0.140263</td>\n",
       "    </tr>\n",
       "  </tbody>\n",
       "</table>\n",
       "</div>"
      ],
      "text/plain": [
       "                 id  radius_mean  texture_mean  perimeter_mean    area_mean  \\\n",
       "count  5.690000e+02   569.000000    569.000000      569.000000   569.000000   \n",
       "mean   3.037183e+07    14.157073     19.025699       91.969033   654.889104   \n",
       "std    1.250206e+08     3.435295      4.515361       24.298981   351.914129   \n",
       "min    8.670000e+03     2.174108      5.225685       43.790000   143.500000   \n",
       "25%    8.692180e+05    11.762811     15.926529       75.170000   420.300000   \n",
       "50%    9.060240e+05    14.142920     19.135095       86.240000   551.100000   \n",
       "75%    8.813129e+06    16.403557     22.060029      104.100000   782.700000   \n",
       "max    9.113205e+08    24.961616     31.692291      188.500000  2501.000000   \n",
       "\n",
       "       smoothness_mean  compactness_mean  concavity_mean  concave points_mean  \\\n",
       "count       569.000000        569.000000      569.000000           569.000000   \n",
       "mean          0.095887          0.106397        0.092388             0.048655   \n",
       "std           0.013778          0.051773        0.082573             0.042227   \n",
       "min           0.045915         -0.055431       -0.156186            -0.078615   \n",
       "25%           0.085801          0.070217        0.037784             0.020214   \n",
       "50%           0.096244          0.105569        0.093832             0.048666   \n",
       "75%           0.105867          0.143065        0.148154             0.077010   \n",
       "max           0.144596          0.248430        0.335120             0.189527   \n",
       "\n",
       "       symmetry_mean  fractal_dimension_mean   radius_se  texture_se  \\\n",
       "count     569.000000              569.000000  569.000000  569.000000   \n",
       "mean        0.179979                0.063291    0.420306    1.206972   \n",
       "std         0.026742                0.006770    0.279339    0.534069   \n",
       "min         0.103582                0.041265   -0.372471   -0.546491   \n",
       "25%         0.162974                0.058996    0.227769    0.822432   \n",
       "50%         0.179796                0.062821    0.417595    1.219510   \n",
       "75%         0.198569                0.067782    0.625950    1.549142   \n",
       "max         0.261135                0.087951    1.461752    2.786341   \n",
       "\n",
       "       perimeter_se     area_se  smoothness_se  compactness_se  concavity_se  \\\n",
       "count    569.000000  569.000000     569.000000      569.000000    569.000000   \n",
       "mean       3.014281   40.337079       0.006921        0.025483      0.031894   \n",
       "std        2.070656   45.491006       0.003069        0.017796      0.030186   \n",
       "min       -4.707076    6.802000      -0.001133       -0.028741      0.000000   \n",
       "25%        1.642622   17.850000       0.004856        0.014254      0.015090   \n",
       "50%        2.964648   24.530000       0.006996        0.025416      0.025890   \n",
       "75%        4.341242   45.190000       0.009152        0.037804      0.042050   \n",
       "max        8.611148  542.200000       0.015543        0.075790      0.396000   \n",
       "\n",
       "       concave points_se  symmetry_se  fractal_dimension_se  radius_worst  \\\n",
       "count         569.000000   569.000000            569.000000    569.000000   \n",
       "mean            0.011796     0.020458              0.003916     16.269190   \n",
       "std             0.006170     0.008280              0.002670      4.833242   \n",
       "min             0.000000    -0.005896             -0.003879      7.930000   \n",
       "25%             0.007638     0.014591              0.002096     13.010000   \n",
       "50%             0.010930     0.020653              0.003928     14.970000   \n",
       "75%             0.014710     0.026359              0.005818     18.790000   \n",
       "max             0.052790     0.042971              0.011591     36.040000   \n",
       "\n",
       "       texture_worst  perimeter_worst   area_worst  smoothness_worst  \\\n",
       "count     569.000000       569.000000   569.000000        569.000000   \n",
       "mean       25.677223       107.261213   880.583128          0.132369   \n",
       "std         6.146258        33.602542   569.356993          0.022832   \n",
       "min        12.020000        50.410000   185.200000          0.071170   \n",
       "25%        21.080000        84.110000   515.300000          0.116600   \n",
       "50%        25.410000        97.660000   686.500000          0.131300   \n",
       "75%        29.720000       125.400000  1084.000000          0.146000   \n",
       "max        49.540000       251.200000  4254.000000          0.222600   \n",
       "\n",
       "       compactness_wors  concavity_worst  concave points_worst  \\\n",
       "count        569.000000       569.000000            569.000000   \n",
       "mean           0.243948         0.272188              0.122288   \n",
       "std            0.156127         0.208624              0.064848   \n",
       "min           -0.198310         0.000000             -0.133583   \n",
       "25%            0.130946         0.114500              0.077446   \n",
       "50%            0.237884         0.226700              0.120702   \n",
       "75%            0.345980         0.382900              0.162843   \n",
       "max            0.693251         1.252000              0.313149   \n",
       "\n",
       "       symmetry_worst  fractal_dimension_worst  \n",
       "count      569.000000               569.000000  \n",
       "mean         0.290076                 0.082584  \n",
       "std          0.061867                 0.018546  \n",
       "min          0.156500                 0.031090  \n",
       "25%          0.250400                 0.068561  \n",
       "50%          0.282200                 0.082181  \n",
       "75%          0.317900                 0.094202  \n",
       "max          0.663800                 0.140263  "
      ]
     },
     "execution_count": 28,
     "metadata": {},
     "output_type": "execute_result"
    }
   ],
   "source": [
    "df_data.describe()"
   ]
  },
  {
   "cell_type": "code",
   "execution_count": 29,
   "metadata": {},
   "outputs": [
    {
     "data": {
      "text/plain": [
       "31"
      ]
     },
     "execution_count": 29,
     "metadata": {},
     "output_type": "execute_result"
    }
   ],
   "source": [
    "len(df_data.describe().columns)"
   ]
  },
  {
   "cell_type": "markdown",
   "metadata": {},
   "source": [
    "Out of the 32 columns, 31 are numeric in nature. Only diagnosis is character "
   ]
  },
  {
   "cell_type": "markdown",
   "metadata": {},
   "source": [
    "### Removing id column, which is irrelevant for analysis"
   ]
  },
  {
   "cell_type": "code",
   "execution_count": 30,
   "metadata": {},
   "outputs": [],
   "source": [
    "df_data.drop('id',axis=1,inplace=True)"
   ]
  },
  {
   "cell_type": "code",
   "execution_count": 31,
   "metadata": {},
   "outputs": [
    {
     "data": {
      "text/plain": [
       "(569, 31)"
      ]
     },
     "execution_count": 31,
     "metadata": {},
     "output_type": "execute_result"
    }
   ],
   "source": [
    "df_data.shape"
   ]
  },
  {
   "cell_type": "markdown",
   "metadata": {},
   "source": [
    "### Checking missing values"
   ]
  },
  {
   "cell_type": "code",
   "execution_count": 32,
   "metadata": {},
   "outputs": [
    {
     "data": {
      "text/plain": [
       "fractal_dimension_worst    0\n",
       "area_se                    0\n",
       "radius_mean                0\n",
       "texture_mean               0\n",
       "perimeter_mean             0\n",
       "area_mean                  0\n",
       "smoothness_mean            0\n",
       "compactness_mean           0\n",
       "concavity_mean             0\n",
       "concave points_mean        0\n",
       "symmetry_mean              0\n",
       "fractal_dimension_mean     0\n",
       "radius_se                  0\n",
       "texture_se                 0\n",
       "perimeter_se               0\n",
       "smoothness_se              0\n",
       "symmetry_worst             0\n",
       "compactness_se             0\n",
       "concavity_se               0\n",
       "concave points_se          0\n",
       "symmetry_se                0\n",
       "fractal_dimension_se       0\n",
       "radius_worst               0\n",
       "texture_worst              0\n",
       "perimeter_worst            0\n",
       "area_worst                 0\n",
       "smoothness_worst           0\n",
       "compactness_wors           0\n",
       "concavity_worst            0\n",
       "concave points_worst       0\n",
       "diagnosis                  0\n",
       "dtype: int64"
      ]
     },
     "execution_count": 32,
     "metadata": {},
     "output_type": "execute_result"
    }
   ],
   "source": [
    "df_data.isnull().sum().sort_values(ascending=False)"
   ]
  },
  {
   "cell_type": "markdown",
   "metadata": {},
   "source": [
    "There are no missing values in the dataset."
   ]
  },
  {
   "cell_type": "markdown",
   "metadata": {},
   "source": [
    "### Label-Encoding to convert categorical data"
   ]
  },
  {
   "cell_type": "code",
   "execution_count": 36,
   "metadata": {},
   "outputs": [
    {
     "data": {
      "text/plain": [
       "diagnosis                   object\n",
       "radius_mean                float64\n",
       "texture_mean               float64\n",
       "perimeter_mean             float64\n",
       "area_mean                  float64\n",
       "smoothness_mean            float64\n",
       "compactness_mean           float64\n",
       "concavity_mean             float64\n",
       "concave points_mean        float64\n",
       "symmetry_mean              float64\n",
       "fractal_dimension_mean     float64\n",
       "radius_se                  float64\n",
       "texture_se                 float64\n",
       "perimeter_se               float64\n",
       "area_se                    float64\n",
       "smoothness_se              float64\n",
       "compactness_se             float64\n",
       "concavity_se               float64\n",
       "concave points_se          float64\n",
       "symmetry_se                float64\n",
       "fractal_dimension_se       float64\n",
       "radius_worst               float64\n",
       "texture_worst              float64\n",
       "perimeter_worst            float64\n",
       "area_worst                 float64\n",
       "smoothness_worst           float64\n",
       "compactness_wors           float64\n",
       "concavity_worst            float64\n",
       "concave points_worst       float64\n",
       "symmetry_worst             float64\n",
       "fractal_dimension_worst    float64\n",
       "dtype: object"
      ]
     },
     "execution_count": 36,
     "metadata": {},
     "output_type": "execute_result"
    }
   ],
   "source": [
    "df_data.dtypes"
   ]
  },
  {
   "cell_type": "code",
   "execution_count": 37,
   "metadata": {},
   "outputs": [
    {
     "data": {
      "text/plain": [
       "B    357\n",
       "M    212\n",
       "Name: diagnosis, dtype: int64"
      ]
     },
     "execution_count": 37,
     "metadata": {},
     "output_type": "execute_result"
    }
   ],
   "source": [
    "df_data.diagnosis.value_counts()"
   ]
  },
  {
   "cell_type": "code",
   "execution_count": 38,
   "metadata": {},
   "outputs": [],
   "source": [
    "label =LabelEncoder()\n",
    "df_data.diagnosis =label.fit_transform(df_data.diagnosis.values)"
   ]
  },
  {
   "cell_type": "code",
   "execution_count": 39,
   "metadata": {},
   "outputs": [
    {
     "data": {
      "text/plain": [
       "0    357\n",
       "1    212\n",
       "Name: diagnosis, dtype: int64"
      ]
     },
     "execution_count": 39,
     "metadata": {},
     "output_type": "execute_result"
    }
   ],
   "source": [
    "df_data.diagnosis.value_counts()"
   ]
  },
  {
   "cell_type": "markdown",
   "metadata": {},
   "source": [
    "diagnosis is now having numeric data , 0-B and 1-M"
   ]
  },
  {
   "cell_type": "markdown",
   "metadata": {},
   "source": [
    "### Splitting the dataset into train and test"
   ]
  },
  {
   "cell_type": "code",
   "execution_count": 71,
   "metadata": {},
   "outputs": [
    {
     "name": "stdout",
     "output_type": "stream",
     "text": [
      "(381, 30) (188, 30) (381,) (188,)\n"
     ]
    }
   ],
   "source": [
    "X= df_data.drop('diagnosis',axis=1)\n",
    "y= df_data['diagnosis']\n",
    "\n",
    "from sklearn.model_selection import train_test_split\n",
    "X_train,X_test,y_train,y_test= train_test_split(X,y,test_size=.33,random_state=42)\n",
    "print(X_train.shape,X_test.shape,y_train.shape,y_test.shape)"
   ]
  },
  {
   "cell_type": "markdown",
   "metadata": {},
   "source": [
    "### KNN Implementation and checking accuracy of model for different values of k\n"
   ]
  },
  {
   "cell_type": "code",
   "execution_count": 72,
   "metadata": {
    "scrolled": true
   },
   "outputs": [
    {
     "name": "stdout",
     "output_type": "stream",
     "text": [
      "Accuracy is : 93.08510638297872 for K-value: 1\n",
      "Accuracy is : 94.14893617021278 for K-value: 3\n",
      "Accuracy is : 93.61702127659575 for K-value: 5\n",
      "Accuracy is : 96.80851063829788 for K-value: 7\n",
      "Accuracy is : 97.3404255319149 for K-value: 9\n",
      "Accuracy is : 96.80851063829788 for K-value: 11\n",
      "Accuracy is : 97.87234042553192 for K-value: 13\n",
      "Accuracy is : 97.3404255319149 for K-value: 15\n",
      "Accuracy is : 96.80851063829788 for K-value: 17\n",
      "Accuracy is : 97.3404255319149 for K-value: 19\n",
      "Accuracy is : 97.3404255319149 for K-value: 21\n",
      "Accuracy is : 96.27659574468085 for K-value: 23\n"
     ]
    }
   ],
   "source": [
    "from sklearn.neighbors import KNeighborsClassifier\n",
    "from sklearn.metrics import accuracy_score\n",
    "for k in range(1,25,2):\n",
    "    knn_model=KNeighborsClassifier(n_neighbors=k,weights='distance')\n",
    "    knn_model.fit(X_train,y_train)\n",
    "    y_pred=knn_model.predict(X_test)\n",
    "    print(\"Accuracy is :\",accuracy_score(y_pred,y_test)*100,\"for K-value:\",k)"
   ]
  },
  {
   "cell_type": "markdown",
   "metadata": {},
   "source": [
    "Highest Accuracy is : 97.87234042553192 for K-value: 13. Lets perform k fold cross validation to confirm the optimum k value"
   ]
  },
  {
   "cell_type": "markdown",
   "metadata": {},
   "source": [
    "### Cross Validation -optimizing the number of neighbours"
   ]
  },
  {
   "cell_type": "code",
   "execution_count": 102,
   "metadata": {},
   "outputs": [
    {
     "name": "stdout",
     "output_type": "stream",
     "text": [
      "CV score is  0.8946711894080316 for K-value : 1\n",
      "CV score is  0.8943265127475654 for K-value : 3\n",
      "CV score is  0.9075591786118101 for K-value : 5\n",
      "CV score is  0.9075591786118101 for K-value : 7\n",
      "CV score is  0.9076977787504102 for K-value : 9\n",
      "CV score is  0.9131031841558157 for K-value : 11\n",
      "CV score is  0.9157347631031841 for K-value : 13\n",
      "CV score is  0.9050661998030419 for K-value : 15\n",
      "CV score is  0.8971678155888683 for K-value : 17\n",
      "CV score is  0.8997319181529708 for K-value : 19\n",
      "CV score is  0.9023634971003393 for K-value : 21\n",
      "CV score is  0.8997319181529708 for K-value : 23\n"
     ]
    }
   ],
   "source": [
    "cv_scores=[]\n",
    "neighbors=[]\n",
    "auc_scores= []\n",
    "from sklearn.model_selection import cross_val_score\n",
    "from sklearn.metrics import roc_auc_score\n",
    "for k in range(1,25,2):\n",
    "    neighbors.append(k)\n",
    "    cv_model =KNeighborsClassifier(n_neighbors=k,weights='distance')\n",
    "    scores = cross_val_score(cv_model,X_train,y_train,cv=10,scoring='accuracy')\n",
    "    print(\"CV score is \",scores.mean() ,\"for K-value :\" ,k)\n",
    "    cv_scores.append(scores.mean())\n",
    "    \n",
    "    cv_model.fit(X_train,y_train)\n",
    "    y_pred= cv_model.predict(X_test)\n",
    "    auc_scores.append(roc_auc_score(y_pred,y_test))"
   ]
  },
  {
   "cell_type": "markdown",
   "metadata": {},
   "source": [
    "Highest CV score is  0.9157347631031841 for K-value : 13"
   ]
  },
  {
   "cell_type": "markdown",
   "metadata": {},
   "source": [
    "### MisClassification Error"
   ]
  },
  {
   "cell_type": "code",
   "execution_count": 87,
   "metadata": {},
   "outputs": [
    {
     "data": {
      "text/plain": [
       "13"
      ]
     },
     "execution_count": 87,
     "metadata": {},
     "output_type": "execute_result"
    }
   ],
   "source": [
    "MSE = [1-x for x in cv_scores]\n",
    "neighbors[MSE.index(min(MSE))]\n",
    "\n",
    "#or neighbors[cv_scores.index(max(cv_scores))]"
   ]
  },
  {
   "cell_type": "markdown",
   "metadata": {},
   "source": [
    "Lowest MisClassification Error or Highest accuracy is for k value =13"
   ]
  },
  {
   "cell_type": "markdown",
   "metadata": {},
   "source": [
    "### Visualization of MisClassification Error vs k"
   ]
  },
  {
   "cell_type": "code",
   "execution_count": 93,
   "metadata": {},
   "outputs": [
    {
     "data": {
      "image/png": "[encoded data removed]",
      "text/plain": [
       "<Figure size 432x288 with 1 Axes>"
      ]
     },
     "metadata": {
      "needs_background": "light"
     },
     "output_type": "display_data"
    }
   ],
   "source": [
    "import matplotlib.pyplot as plt\n",
    "plt.plot(neighbors,MSE)\n",
    "plt.xlabel(\"No of Neigbors\")\n",
    "plt.ylabel(\"MisClassification Error\")\n",
    "plt.show()"
   ]
  },
  {
   "cell_type": "markdown",
   "metadata": {},
   "source": [
    "#### From the plot , clearly optimal value of k is 13"
   ]
  },
  {
   "cell_type": "markdown",
   "metadata": {},
   "source": [
    "### Visualisation of AUC Scores vs k"
   ]
  },
  {
   "cell_type": "code",
   "execution_count": 103,
   "metadata": {},
   "outputs": [
    {
     "data": {
      "image/png": "[encoded data removed]",
      "text/plain": [
       "<Figure size 432x288 with 1 Axes>"
      ]
     },
     "metadata": {
      "needs_background": "light"
     },
     "output_type": "display_data"
    }
   ],
   "source": [
    "plt.plot(neighbors,auc_scores)\n",
    "plt.xlabel(\"No of Neigbors\")\n",
    "plt.ylabel(\"AUC Score\")\n",
    "plt.show()"
   ]
  },
  {
   "cell_type": "markdown",
   "metadata": {},
   "source": [
    "#### From the plot, maximum AUC score is for k value=13"
   ]
  },
  {
   "cell_type": "code",
   "execution_count": null,
   "metadata": {},
   "outputs": [],
   "source": []
  }
 ],
 "metadata": {
  "kernelspec": {
   "display_name": "Python 3",
   "language": "python",
   "name": "python3"
  },
  "language_info": {
   "codemirror_mode": {
    "name": "ipython",
    "version": 3
   },
   "file_extension": ".py",
   "mimetype": "text/x-python",
   "name": "python",
   "nbconvert_exporter": "python",
   "pygments_lexer": "ipython3",
   "version": "3.7.3"
  }
 },
 "nbformat": 4,
 "nbformat_minor": 2
}
